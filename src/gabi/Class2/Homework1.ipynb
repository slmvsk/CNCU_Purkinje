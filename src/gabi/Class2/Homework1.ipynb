{
 "cells": [
  {
   "cell_type": "markdown",
   "id": "a960470b-abeb-4ad5-849d-33ea3a1458ed",
   "metadata": {
    "tags": []
   },
   "source": [
    "# Homework 1: due date 8th March"
   ]
  },
  {
   "cell_type": "markdown",
   "id": "cc9508e0-8f88-48cc-99bc-b255ef875398",
   "metadata": {},
   "source": [
    "1. Create an axon simulation with the following specifications:\n",
    "\n",
    "- Diameter (diam) = 1 um \n",
    "- length (L) = 1000 um \n",
    "- Capacitance per area (cm) = 1 uF/cm2\n",
    "- Passive mechanism (pas) with the conductance per area = 1×10 −4 S/cm2. (Hint: the conductance variable for this mechanism is axon.g_pas)\n",
    "- A current clamp electrode (ic) near one end (x≈0) that injects 50 pA for a sufficiently long time (>200 ms).\n",
    "\n",
    "**Questions**: \n",
    "\n",
    "2. What are the theoretical membrane time constant (τ) and space constant (λ)?\n",
    "\n",
    "3. Run the simulation and measure the membrane time constant from the simulated data. How does the measured time constant compare with the theoretical value?\n",
    "\n",
    "4. What is the electrotonic length of this axon?\n",
    "\n",
    "5. Change the length (L) and plot the voltage attenuation curve in Fig. 2.4 in the textbook. Note that the unconnected cylinder ends in NEURON are sealed, and you will reproduce the \"Sealed end\" case. Discuss implications in membrane potential dynamics in short versus long dendrites."
   ]
  },
  {
   "cell_type": "markdown",
   "id": "1eecd614-369b-45ed-a07e-2d097ffc9d3c",
   "metadata": {},
   "source": [
    "Plot the sealed end case of Fig. 2.5 in the textbook by following the steps below.\n",
    "\n",
    "6. (I-V curve) Try a few different values for the injected current from -50 pA to 50 pA, record the steady state membrane voltages, and plot the current vs membrane voltage graph. What is the input resistance?\n",
    "7. (Fig. 2.5) Draw the cable length curve versus input resistance curve as Fig. 2.5 in the textbook. Please make sure that the cable has the sufficiently large nseg to get a quasi-smooth curve. Again, you should be able to get only one curves since cables in NEURON have sealed-ends.\n",
    "8. (Fig. 2.8B) Set the length sufficiently long and plot how the voltage changes in time during current injection at different locations as in Fig. 2.8B."
   ]
  },
  {
   "cell_type": "code",
   "execution_count": 1,
   "id": "8a9e36e2-2683-451d-98ef-0251eeaa136f",
   "metadata": {},
   "outputs": [],
   "source": [
    "import numpy as np\n",
    "import matplotlib.pyplot as plt\n",
    "from neuron import h, gui"
   ]
  },
  {
   "cell_type": "code",
   "execution_count": 2,
   "id": "5153ab69-a939-4b4a-bc0c-f603ec1ea3c4",
   "metadata": {},
   "outputs": [
    {
     "name": "stdout",
     "output_type": "stream",
     "text": [
      "axon { nseg=100  L=1000  Ra=35.4\n",
      "\t/*location 0 attached to cell 0*/\n",
      "\t/* First segment only */\n",
      "\tinsert pas { g_pas=0.0001 e_pas=-70}\n",
      "\tinsert capacitance { cm=1}\n",
      "\tinsert morphology { diam=1}\n",
      "}\n"
     ]
    },
    {
     "data": {
      "text/plain": [
       "1.0"
      ]
     },
     "execution_count": 2,
     "metadata": {},
     "output_type": "execute_result"
    }
   ],
   "source": [
    "axon = h.Section(name=\"axon\")\n",
    "axon.diam = 1\n",
    "axon.L = 1000\n",
    "axon.insert(\"pas\")\n",
    "axon.g_pas = 0.0001\n",
    "axon.nseg = 100\n",
    "h.psection()"
   ]
  },
  {
   "cell_type": "code",
   "execution_count": 3,
   "id": "440dbdcf-a169-4c88-a858-bbe741abe8a5",
   "metadata": {},
   "outputs": [
    {
     "data": {
      "text/plain": [
       "IClamp[0]"
      ]
     },
     "execution_count": 3,
     "metadata": {},
     "output_type": "execute_result"
    }
   ],
   "source": [
    "ic = h.IClamp(axon(0))\n",
    "ic.delay = 0\n",
    "ic.dur = 300\n",
    "ic.amp = 0.05\n",
    "ic"
   ]
  },
  {
   "cell_type": "code",
   "execution_count": 4,
   "id": "e5f55c86-2f49-4590-8d5a-88da454ef66b",
   "metadata": {},
   "outputs": [],
   "source": [
    "def run_and_record():\n",
    "  dt = 0.1\n",
    "  xs = [0.001, 0.5, 1]\n",
    "  recs = []\n",
    "  for x in xs:\n",
    "    v = h.Vector()\n",
    "    v.record(axon(x)._ref_v, dt)\n",
    "    recs.append(v)\n",
    "   \n",
    "  h.init()\n",
    "  h.run()\n",
    "  return(recs)"
   ]
  },
  {
   "cell_type": "code",
   "execution_count": 5,
   "id": "aca72b1c-cfb4-4363-9e95-bb4e6b580273",
   "metadata": {},
   "outputs": [],
   "source": [
    "ic.amp = 0.05\n",
    "h.tstop = 100\n",
    "recs = run_and_record()"
   ]
  },
  {
   "cell_type": "code",
   "execution_count": 6,
   "id": "2aa8eee8-822b-4321-8ba4-620f38daa01a",
   "metadata": {},
   "outputs": [
    {
     "data": {
      "text/plain": [
       "[<matplotlib.lines.Line2D at 0x12626bb90>,\n",
       " <matplotlib.lines.Line2D at 0x126293cb0>,\n",
       " <matplotlib.lines.Line2D at 0x126293da0>]"
      ]
     },
     "execution_count": 6,
     "metadata": {},
     "output_type": "execute_result"
    },
    {
     "data": {
      "image/png": "[encoded data removed]",
      "text/plain": [
       "<Figure size 640x480 with 1 Axes>"
      ]
     },
     "metadata": {},
     "output_type": "display_data"
    }
   ],
   "source": [
    "t = np.linspace(0, h.tstop, num=len(recs[0]))\n",
    "fig, ax = plt.subplots()\n",
    "\n",
    "ax.plot(t, recs[0], t, recs[1], t, recs[2])"
   ]
  },
  {
   "cell_type": "code",
   "execution_count": null,
   "id": "7a228843-4f83-45e4-9b96-a98ceb45d097",
   "metadata": {},
   "outputs": [],
   "source": []
  }
 ],
 "metadata": {
  "kernelspec": {
   "display_name": "Python 3 (ipykernel)",
   "language": "python",
   "name": "python3"
  },
  "language_info": {
   "codemirror_mode": {
    "name": "ipython",
    "version": 3
   },
   "file_extension": ".py",
   "mimetype": "text/x-python",
   "name": "python",
   "nbconvert_exporter": "python",
   "pygments_lexer": "ipython3",
   "version": "3.12.6"
  }
 },
 "nbformat": 4,
 "nbformat_minor": 5
}
