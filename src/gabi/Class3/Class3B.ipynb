{
 "cells": [
  {
   "cell_type": "markdown",
   "id": "fd1ad8ec",
   "metadata": {},
   "source": [
    "\n",
    "# Neuron Tutorial - Modeling Exercises - Class 3 part 2\n",
    "## March 14, 2024\n",
    "\n",
    "\n",
    "## Geometry\n",
    "\n",
    "\n",
    " In this section, we will learn how to specify geometry and how to visualize information using the cell morphology.\n"
   ]
  },
  {
   "cell_type": "markdown",
   "id": "b163f6d4",
   "metadata": {},
   "source": [
    "To specify the physical dimensions of a section in Neuron we have two options: \n",
    "### 1. Stylized specification: directly assign the value to section length and diameter \n",
    "    \n",
    "    Example: \n",
    "            axon {L=1000 diam=1}\n",
    "\n",
    "Advantages: Easy syntax: simple and fast. \n",
    "\n",
    "Disadvantages: Only recommended if the 3D shape is irrelevant. \n"
   ]
  },
  {
   "cell_type": "markdown",
   "id": "dfbf01f1",
   "metadata": {},
   "source": [
    "### 2. 3D specification: give a list of (x,y,z) coordinates + diameter: \n",
    "  \n",
    "  Example: \n",
    "  \n",
    "    dend { \n",
    "          pt3dadd(10,0,0,5)\n",
    "          pt3dadd(16,10,0,3)\n",
    "          pt3dadd(25,14,-3,2)  \n",
    "   }\n",
    "   "
   ]
  },
  {
   "cell_type": "markdown",
   "id": "79b611bf",
   "metadata": {},
   "source": [
    "Neuron will then compute on its own the length of the section and the diameter. "
   ]
  },
  {
   "cell_type": "markdown",
   "id": "c5a64ac4",
   "metadata": {},
   "source": [
    "**Method 2 is the one we will use most, and is the prefered option if our modal is based on quantitative morphometry or if visualization is important.**"
   ]
  },
  {
   "cell_type": "markdown",
   "id": "20dc270e",
   "metadata": {},
   "source": [
    "Great database with digital reconstructions of glia and neurons:  https://neuromorpho.org/"
   ]
  },
  {
   "cell_type": "code",
   "execution_count": 1,
   "id": "47e4c16a",
   "metadata": {},
   "outputs": [
    {
     "name": "stdout",
     "output_type": "stream",
     "text": [
      "\t0 \n",
      "\t1 \n",
      "\t1 \n",
      "\t1 \n",
      "\t1 \n"
     ]
    }
   ],
   "source": [
    "import numpy as np\n",
    "import matplotlib.pyplot as plt\n",
    "from neuron import h, gui\n",
    "import libcell\n",
    "\n",
    "cell = libcell.L23()"
   ]
  },
  {
   "cell_type": "code",
   "execution_count": 17,
   "id": "7ea6b89f",
   "metadata": {},
   "outputs": [],
   "source": [
    "ps = h.Shape()"
   ]
  },
  {
   "cell_type": "markdown",
   "id": "7695f019",
   "metadata": {},
   "source": [
    "Insert a current clamp at the soma: "
   ]
  },
  {
   "cell_type": "code",
   "execution_count": 18,
   "id": "c082d913",
   "metadata": {},
   "outputs": [],
   "source": [
    "ic = h.IClamp(cell.soma(0.5))"
   ]
  },
  {
   "cell_type": "markdown",
   "id": "4bc9baa6",
   "metadata": {},
   "source": [
    "To visualize our point process we can use point_mark (this is usually very useful when you deal with complex morphologies as it allows you to check that you placed your point processes correctly)"
   ]
  },
  {
   "cell_type": "code",
   "execution_count": 19,
   "id": "3e5a875a",
   "metadata": {},
   "outputs": [
    {
     "data": {
      "text/plain": [
       "0.0"
      ]
     },
     "execution_count": 19,
     "metadata": {},
     "output_type": "execute_result"
    }
   ],
   "source": [
    "ps.point_mark(ic, 3) # 3 = blue "
   ]
  },
  {
   "cell_type": "markdown",
   "id": "452a9e09",
   "metadata": {},
   "source": [
    "To move our point processes and get the precise location we can use: "
   ]
  },
  {
   "cell_type": "code",
   "execution_count": 20,
   "id": "3f59e15e",
   "metadata": {},
   "outputs": [
    {
     "data": {
      "text/plain": [
       "dend2_12121(1)"
      ]
     },
     "execution_count": 20,
     "metadata": {},
     "output_type": "execute_result"
    }
   ],
   "source": [
    "ic.loc(cell.dends[40](1))\n",
    "ic.get_segment()"
   ]
  },
  {
   "cell_type": "markdown",
   "id": "3d29711d",
   "metadata": {},
   "source": [
    "To find out more info about commands about point processes, please check: https://www.neuron.yale.edu/neuron/static/py_doc/modelspec/programmatic/mechanisms/mech.html"
   ]
  },
  {
   "cell_type": "code",
   "execution_count": 21,
   "id": "cb83cd03",
   "metadata": {},
   "outputs": [
    {
     "data": {
      "text/plain": [
       "0.0"
      ]
     },
     "execution_count": 21,
     "metadata": {},
     "output_type": "execute_result"
    }
   ],
   "source": [
    "ps.point_mark(ic, 2) # 2 = red"
   ]
  },
  {
   "cell_type": "code",
   "execution_count": 22,
   "id": "d8774526",
   "metadata": {},
   "outputs": [
    {
     "data": {
      "text/plain": [
       "0.0"
      ]
     },
     "execution_count": 22,
     "metadata": {},
     "output_type": "execute_result"
    }
   ],
   "source": [
    "ps.point_mark_remove()"
   ]
  },
  {
   "cell_type": "markdown",
   "id": "fe9ed24c",
   "metadata": {},
   "source": [
    "Another shape plot type is useful for inspecting the activity in all compartments."
   ]
  },
  {
   "cell_type": "code",
   "execution_count": 23,
   "id": "72d0fdeb",
   "metadata": {},
   "outputs": [
    {
     "data": {
      "text/plain": [
       "1.0"
      ]
     },
     "execution_count": 23,
     "metadata": {},
     "output_type": "execute_result"
    }
   ],
   "source": [
    "ps = h.PlotShape(0)\n",
    "ps.view(-191.578, -172.628, 369.697, 431.069, 106, 253, 483.84, 563.2)"
   ]
  },
  {
   "cell_type": "code",
   "execution_count": 24,
   "id": "293fd697",
   "metadata": {},
   "outputs": [
    {
     "data": {
      "text/plain": [
       "0.0"
      ]
     },
     "execution_count": 24,
     "metadata": {},
     "output_type": "execute_result"
    }
   ],
   "source": [
    "ps.variable(\"v\")\n",
    "ps.exec_menu(\"Shape Plot\")"
   ]
  },
  {
   "cell_type": "code",
   "execution_count": 25,
   "id": "7fb6453e",
   "metadata": {},
   "outputs": [
    {
     "data": {
      "text/plain": [
       "1.0"
      ]
     },
     "execution_count": 25,
     "metadata": {},
     "output_type": "execute_result"
    }
   ],
   "source": [
    "ps.scale(-70, 0)"
   ]
  },
  {
   "cell_type": "code",
   "execution_count": 26,
   "id": "86decf72",
   "metadata": {},
   "outputs": [
    {
     "data": {
      "text/plain": [
       "1.0"
      ]
     },
     "execution_count": 26,
     "metadata": {},
     "output_type": "execute_result"
    }
   ],
   "source": [
    "ic.loc(cell.soma(0.5)) #relocate the current clamp to soma.\n",
    "\n",
    "ic.delay = 0\n",
    "ic.amp = 0.1 #100 pA\n",
    "ic.dur = 100  #for 100 ms\n",
    "h.v_init = -75\n",
    "h.tstop = ic.dur # we simulate the model during current injection\n",
    "\n",
    "h.init()\n",
    "h.run()\n",
    "ps.flush()"
   ]
  },
  {
   "cell_type": "code",
   "execution_count": 27,
   "id": "19db9096",
   "metadata": {},
   "outputs": [
    {
     "name": "stdout",
     "output_type": "stream",
     "text": [
      "min voltage: -75.0, max voltage: -67.79725996648476\n"
     ]
    }
   ],
   "source": [
    "vs = []\n",
    "for sec in h.allsec():\n",
    "    for seg in sec.allseg():\n",
    "        vs.append(seg.v)\n",
    "        \n",
    "vsmin = np.min(vs)\n",
    "vsmax = np.max(vs)\n",
    "print(f'min voltage: {vsmin}, max voltage: {vsmax}')"
   ]
  },
  {
   "cell_type": "code",
   "execution_count": 28,
   "id": "a66a88fb",
   "metadata": {},
   "outputs": [
    {
     "data": {
      "text/plain": [
       "1.0"
      ]
     },
     "execution_count": 28,
     "metadata": {},
     "output_type": "execute_result"
    }
   ],
   "source": [
    "ps.scale(vsmin, vsmax)"
   ]
  },
  {
   "cell_type": "code",
   "execution_count": 29,
   "id": "f6fba60a",
   "metadata": {},
   "outputs": [
    {
     "data": {
      "text/plain": [
       "1.0"
      ]
     },
     "execution_count": 29,
     "metadata": {},
     "output_type": "execute_result"
    }
   ],
   "source": [
    "ps.printfile(\"L23_voltage_1.eps\")"
   ]
  },
  {
   "cell_type": "code",
   "execution_count": 30,
   "id": "5ee0cd10",
   "metadata": {},
   "outputs": [
    {
     "name": "stdout",
     "output_type": "stream",
     "text": [
      "min distance: 0.0, max distance: 1e+20\n"
     ]
    },
    {
     "data": {
      "text/plain": [
       "1.0"
      ]
     },
     "execution_count": 30,
     "metadata": {},
     "output_type": "execute_result"
    }
   ],
   "source": [
    "vs = []\n",
    "for sec in h.allsec():\n",
    "    for seg in sec.allseg():\n",
    "        seg.v = h.distance(cell.soma(0.5), seg) # set the distance for soma\n",
    "        vs.append(seg.v)\n",
    "        \n",
    "vsmin = np.min(vs)\n",
    "vsmax = np.max(vs)\n",
    "print(f'min distance: {vsmin}, max distance: {vsmax}')\n",
    "\n",
    "ps.scale(vsmin, vsmax)"
   ]
  },
  {
   "cell_type": "markdown",
   "id": "ff509948",
   "metadata": {},
   "source": [
    "More info on shape plots: https://nrn.readthedocs.io/en/latest/python/visualization/shape.html"
   ]
  },
  {
   "cell_type": "code",
   "execution_count": null,
   "id": "1cb65622",
   "metadata": {},
   "outputs": [],
   "source": []
  }
 ],
 "metadata": {
  "kernelspec": {
   "display_name": "Python 3 (ipykernel)",
   "language": "python",
   "name": "python3"
  },
  "language_info": {
   "codemirror_mode": {
    "name": "ipython",
    "version": 3
   },
   "file_extension": ".py",
   "mimetype": "text/x-python",
   "name": "python",
   "nbconvert_exporter": "python",
   "pygments_lexer": "ipython3",
   "version": "3.11.5"
  }
 },
 "nbformat": 4,
 "nbformat_minor": 5
}
