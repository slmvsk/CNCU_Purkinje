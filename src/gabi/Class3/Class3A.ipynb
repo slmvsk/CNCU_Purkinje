{
 "cells": [
  {
   "cell_type": "markdown",
   "id": "040ea464",
   "metadata": {},
   "source": [
    "# Neuron Tutorial - Modeling Exercises - Class 3\n",
    "## March 14, 2024\n",
    "\n",
    "## Recap from last class: \n",
    "\n",
    "We learned: \n",
    "\n",
    "    1. basics about Neuron + Python interface \n",
    "    \n",
    "    2. how to add point processes\n",
    "    \n",
    "    3. how to record data\n",
    "    \n",
    "    4. how to import an external module\n",
    "    \n",
    "    5. how to find a particular segment or the location of the electrode \n",
    "    \n",
    "    6. how to move the electrode  (.loc)\n",
    "\n",
    "## Plan for today:\n",
    "\n",
    "1. Some more exercises: Hodgkin-Huxley, inserting multiple current clamps and calculating ISI\n",
    "\n",
    "2. Learn how to specify geometry and how to visualize information\n",
    "\n",
    "3. Build an artificial neural model, multi-compartment - learn how to connect different sections"
   ]
  },
  {
   "cell_type": "markdown",
   "id": "7c7b3ec4",
   "metadata": {},
   "source": [
    "### Exercise 1: insert Hodgkin Huxley at soma and inject a current "
   ]
  },
  {
   "cell_type": "code",
   "execution_count": null,
   "id": "20e52f82",
   "metadata": {},
   "outputs": [],
   "source": [
    "from neuron import h, gui\n",
    "from matplotlib import pyplot"
   ]
  },
  {
   "cell_type": "markdown",
   "id": "003466e1",
   "metadata": {},
   "source": [
    "Create a soma section: "
   ]
  },
  {
   "cell_type": "code",
   "execution_count": null,
   "id": "65e26789",
   "metadata": {},
   "outputs": [],
   "source": [
    "soma = h.Section(name='soma')\n",
    "soma.insert('hh')"
   ]
  },
  {
   "cell_type": "markdown",
   "id": "3ae4431b",
   "metadata": {},
   "source": [
    "Insert a current clamp at the center of the soma, that starts at t = 2 msec of duration 0.5 msec and of amplitude 50. "
   ]
  },
  {
   "cell_type": "code",
   "execution_count": null,
   "id": "05371636",
   "metadata": {},
   "outputs": [],
   "source": [
    "ic = h.IClamp(soma(0.5))\n",
    "ic.delay = 2 \n",
    "ic.dur = 0.5\n",
    "ic.amp = 50"
   ]
  },
  {
   "cell_type": "markdown",
   "id": "ff40c32e",
   "metadata": {},
   "source": [
    "Record time and membrane potential: "
   ]
  },
  {
   "cell_type": "code",
   "execution_count": null,
   "id": "9728b68a",
   "metadata": {},
   "outputs": [],
   "source": [
    "t = h.Vector()\n",
    "v = h.Vector()\n",
    "\n",
    "t.record(h._ref_t)\n",
    "v.record(soma(0.5)._ref_v)\n"
   ]
  },
  {
   "cell_type": "markdown",
   "id": "ccab2468",
   "metadata": {},
   "source": [
    "Initialize and run:"
   ]
  },
  {
   "cell_type": "code",
   "execution_count": null,
   "id": "4f987d4c",
   "metadata": {},
   "outputs": [],
   "source": [
    "h.finitialize(-65)\n",
    "h.continuerun(50)"
   ]
  },
  {
   "cell_type": "markdown",
   "id": "07f5aeaa",
   "metadata": {},
   "source": [
    "Plot your results using pyplot:"
   ]
  },
  {
   "cell_type": "code",
   "execution_count": null,
   "id": "6ac224b8",
   "metadata": {},
   "outputs": [],
   "source": [
    "pyplot.plot(t,v)\n",
    "pyplot.show"
   ]
  },
  {
   "cell_type": "markdown",
   "id": "eba0e16f",
   "metadata": {},
   "source": [
    "Before we move on please restart your kernel: "
   ]
  },
  {
   "cell_type": "markdown",
   "id": "4728b0e9",
   "metadata": {},
   "source": [
    "### Exercise 2: Let's insert many currents and let's calculate the interspike intervals"
   ]
  },
  {
   "cell_type": "code",
   "execution_count": 3,
   "id": "3e0d1238",
   "metadata": {},
   "outputs": [],
   "source": [
    "from neuron import h, gui\n",
    "from matplotlib import pyplot"
   ]
  },
  {
   "cell_type": "code",
   "execution_count": 4,
   "id": "11b39476",
   "metadata": {},
   "outputs": [
    {
     "data": {
      "text/plain": [
       "soma"
      ]
     },
     "execution_count": 4,
     "metadata": {},
     "output_type": "execute_result"
    }
   ],
   "source": [
    "soma = h.Section(name='soma')\n",
    "soma.insert('hh')"
   ]
  },
  {
   "cell_type": "code",
   "execution_count": 5,
   "id": "0551f678",
   "metadata": {},
   "outputs": [],
   "source": [
    "ics = []\n",
    "for t in [2,10,20,40]:\n",
    "    i =h.IClamp(soma(0.5))\n",
    "    i.delay = t \n",
    "    i.dur = 0.5\n",
    "    i.amp = 50\n",
    "    ics.append(i)"
   ]
  },
  {
   "cell_type": "code",
   "execution_count": 6,
   "id": "14059458",
   "metadata": {},
   "outputs": [
    {
     "data": {
      "text/plain": [
       "Vector[4]"
      ]
     },
     "execution_count": 6,
     "metadata": {},
     "output_type": "execute_result"
    }
   ],
   "source": [
    "t = h.Vector()\n",
    "v = h.Vector()\n",
    "\n",
    "t.record(h._ref_t)\n",
    "v.record(soma(0.5)._ref_v)"
   ]
  },
  {
   "cell_type": "code",
   "execution_count": 7,
   "id": "2f9c98cd",
   "metadata": {},
   "outputs": [
    {
     "data": {
      "text/plain": [
       "0.0"
      ]
     },
     "execution_count": 7,
     "metadata": {},
     "output_type": "execute_result"
    }
   ],
   "source": [
    "h.finitialize(-65)\n",
    "h.continuerun(50)"
   ]
  },
  {
   "cell_type": "code",
   "execution_count": 8,
   "id": "8781cb30",
   "metadata": {},
   "outputs": [
    {
     "name": "stdout",
     "output_type": "stream",
     "text": [
      "spike times:\n",
      "[3.1750000000000114, 21.174999999999333, 41.12500000000079]\n"
     ]
    }
   ],
   "source": [
    "st = [t[j] for j in range(len(v)-1)\n",
    "      if v[j]<=0 and v[j+1] >0]\n",
    "print('spike times:'); print(st)"
   ]
  },
  {
   "cell_type": "code",
   "execution_count": 9,
   "id": "bbcb10fb",
   "metadata": {},
   "outputs": [
    {
     "data": {
      "text/plain": [
       "<function matplotlib.pyplot.show(close=None, block=None)>"
      ]
     },
     "execution_count": 9,
     "metadata": {},
     "output_type": "execute_result"
    },
    {
     "data": {
      "image/png": "[encoded data removed]",
      "text/plain": [
       "<Figure size 640x480 with 1 Axes>"
      ]
     },
     "metadata": {},
     "output_type": "display_data"
    }
   ],
   "source": [
    "pyplot.plot(t,v)\n",
    "pyplot.show"
   ]
  },
  {
   "cell_type": "markdown",
   "id": "9c2bcbb8",
   "metadata": {},
   "source": [
    "**Questions:** \n",
    "1. Why don't we have a spike around t=10? \n",
    "\n",
    "2. How do we calculate the interspike intervals (differences between two consecutive spikes)? "
   ]
  },
  {
   "cell_type": "code",
   "execution_count": 10,
   "id": "95402be1",
   "metadata": {},
   "outputs": [],
   "source": [
    "isi = [next - last for next, last in zip(st[1:],st[:-1])]"
   ]
  },
  {
   "cell_type": "code",
   "execution_count": 11,
   "id": "b7d77ef1",
   "metadata": {},
   "outputs": [
    {
     "name": "stdout",
     "output_type": "stream",
     "text": [
      "ISI:\n",
      "[17.99999999999932, 19.950000000001456]\n"
     ]
    }
   ],
   "source": [
    "print('ISI:')\n",
    "print(isi)"
   ]
  },
  {
   "cell_type": "code",
   "execution_count": null,
   "id": "032bd069",
   "metadata": {},
   "outputs": [],
   "source": []
  }
 ],
 "metadata": {
  "kernelspec": {
   "display_name": "Python 3 (ipykernel)",
   "language": "python",
   "name": "python3"
  },
  "language_info": {
   "codemirror_mode": {
    "name": "ipython",
    "version": 3
   },
   "file_extension": ".py",
   "mimetype": "text/x-python",
   "name": "python",
   "nbconvert_exporter": "python",
   "pygments_lexer": "ipython3",
   "version": "3.11.5"
  }
 },
 "nbformat": 4,
 "nbformat_minor": 5
}
