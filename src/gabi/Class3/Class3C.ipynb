{
 "cells": [
  {
   "cell_type": "markdown",
   "id": "38a3fb55",
   "metadata": {},
   "source": [
    "### Neuron Tutorial - Modeling Exercises Class 3 - part 3"
   ]
  },
  {
   "cell_type": "markdown",
   "id": "8d1244bb",
   "metadata": {},
   "source": [
    "## March 14th, 2024\n"
   ]
  },
  {
   "cell_type": "markdown",
   "id": "71a1d69a",
   "metadata": {},
   "source": [
    "In this part, we will learn how to build an **artificial neuron model**, instead of using the experimentally measured morphology as we did in part1. We can build a multi-compartmental model by constructing **Sections** and **connecting** them.\n",
    "\n"
   ]
  },
  {
   "cell_type": "code",
   "execution_count": 1,
   "id": "cfe0eabb",
   "metadata": {},
   "outputs": [],
   "source": [
    "import numpy as np\n",
    "import matplotlib.pyplot as plt\n",
    "from neuron import h, gui\n",
    "\n",
    "# we build a three-compartment model: one soma + two dendrites\n",
    "soma = h.Section(name='soma')\n",
    "dends = [h.Section(name=f'dend{i+1}') for i in range(2)]"
   ]
  },
  {
   "cell_type": "markdown",
   "id": "2e2ab157",
   "metadata": {},
   "source": [
    "We visualize what is inside of dends using psection command: "
   ]
  },
  {
   "cell_type": "code",
   "execution_count": 2,
   "id": "4b23b4d5",
   "metadata": {},
   "outputs": [
    {
     "name": "stdout",
     "output_type": "stream",
     "text": [
      "[dend1, dend2]\n"
     ]
    },
    {
     "data": {
      "text/plain": [
       "{'point_processes': {},\n",
       " 'density_mechs': {},\n",
       " 'ions': {},\n",
       " 'morphology': {'L': 100.0,\n",
       "  'diam': [500.0],\n",
       "  'pts3d': [],\n",
       "  'parent': None,\n",
       "  'trueparent': None},\n",
       " 'nseg': 1,\n",
       " 'Ra': 35.4,\n",
       " 'cm': [1.0],\n",
       " 'regions': set(),\n",
       " 'species': set(),\n",
       " 'name': 'dend1',\n",
       " 'hoc_internal_name': '__nrnsec_0x1482b0060',\n",
       " 'cell': None}"
      ]
     },
     "execution_count": 2,
     "metadata": {},
     "output_type": "execute_result"
    }
   ],
   "source": [
    "print(dends)\n",
    "dends[0].psection()"
   ]
  },
  {
   "cell_type": "markdown",
   "id": "ad2f6ce2",
   "metadata": {},
   "source": [
    "**Step 1:** Specify their **morphological properties**."
   ]
  },
  {
   "cell_type": "code",
   "execution_count": 3,
   "id": "e264675e",
   "metadata": {},
   "outputs": [],
   "source": [
    "soma.L = 4\n",
    "soma.diam = 8\n",
    "\n",
    "for d in dends:\n",
    "    d.L = 600\n",
    "    d.diam = 5\n",
    "    d.nseg = 1 # isopotential sections"
   ]
  },
  {
   "cell_type": "markdown",
   "id": "d00c511c",
   "metadata": {},
   "source": [
    "**Step 2:** **Connect** the soma and dendrites **electrically**."
   ]
  },
  {
   "cell_type": "code",
   "execution_count": 4,
   "id": "7f710aca",
   "metadata": {},
   "outputs": [],
   "source": [
    "for d in dends:\n",
    "    d.connect(soma(1), 0)"
   ]
  },
  {
   "cell_type": "code",
   "execution_count": 5,
   "id": "bc680629",
   "metadata": {},
   "outputs": [
    {
     "name": "stdout",
     "output_type": "stream",
     "text": [
      "\n",
      "|-|       soma(0-1)\n",
      "   `|       dend1(0-1)\n",
      "   `|       dend2(0-1)\n",
      "\n"
     ]
    },
    {
     "data": {
      "text/plain": [
       "1.0"
      ]
     },
     "execution_count": 5,
     "metadata": {},
     "output_type": "execute_result"
    }
   ],
   "source": [
    "h.topology()"
   ]
  },
  {
   "cell_type": "markdown",
   "id": "e681fbe6",
   "metadata": {},
   "source": [
    "**Step 3:** Include passive **mechanisms** for the dendrites"
   ]
  },
  {
   "cell_type": "code",
   "execution_count": 6,
   "id": "ea5d2135",
   "metadata": {},
   "outputs": [],
   "source": [
    "for s in h.allsec():\n",
    "    s.insert('pas')\n",
    "    s.g_pas = 0.5e-4\n",
    "\n",
    "h.v_init = soma.e_pas # we set the initial voltage to the reversal potential of the passive membrane"
   ]
  },
  {
   "cell_type": "markdown",
   "id": "f68429b8",
   "metadata": {},
   "source": [
    "**Step 4:** Add **point processes**. In this case we will add a current clamp on one of the dendrites"
   ]
  },
  {
   "cell_type": "code",
   "execution_count": 7,
   "id": "a2b45a93",
   "metadata": {},
   "outputs": [],
   "source": [
    "ic = h.IClamp(dends[0](0.5))\n",
    "ic.amp = 0.2 # 200 pA\n",
    "ic.delay = 10\n",
    "ic.dur = 150"
   ]
  },
  {
   "cell_type": "markdown",
   "id": "977ad0c0",
   "metadata": {},
   "source": [
    "**Step 5**: Define the functions for **running**, **recording** and **plotting** this simulation: "
   ]
  },
  {
   "cell_type": "code",
   "execution_count": 8,
   "id": "c119994b",
   "metadata": {},
   "outputs": [],
   "source": [
    "def record_and_run(tstop=250, dt=0.1):\n",
    "    vrec = h.Vector()\n",
    "    trec = h.Vector()\n",
    "    \n",
    "    vrec.record(soma(0.5)._ref_v, dt)\n",
    "    trec.record(h._ref_t, dt)\n",
    "    \n",
    "    h.tstop = tstop\n",
    "    h.init()\n",
    "    h.run()\n",
    "\n",
    "    return vrec.c(), trec.c()\n",
    "    \n",
    "def run_and_plot(tstop=250, ax=None):\n",
    "    v, t = record_and_run(tstop=tstop)\n",
    "    \n",
    "    if ax is None:\n",
    "        _, ax = plt.subplots()\n",
    "    ax.plot(t, v)"
   ]
  },
  {
   "cell_type": "code",
   "execution_count": 9,
   "id": "0a122a1d",
   "metadata": {},
   "outputs": [
    {
     "data": {
      "image/png": "[encoded data removed]",
      "text/plain": [
       "<Figure size 640x480 with 1 Axes>"
      ]
     },
     "metadata": {},
     "output_type": "display_data"
    }
   ],
   "source": [
    "run_and_plot()"
   ]
  },
  {
   "cell_type": "markdown",
   "id": "5f8f1e89",
   "metadata": {},
   "source": [
    "Let's change the coupling of the dendrite and soma. We first measure what is the resistance between the soma and the first dendrite."
   ]
  },
  {
   "cell_type": "code",
   "execution_count": 10,
   "id": "ee4da08f",
   "metadata": {},
   "outputs": [
    {
     "data": {
      "text/plain": [
       "5.408721586034971"
      ]
     },
     "execution_count": 10,
     "metadata": {},
     "output_type": "execute_result"
    }
   ],
   "source": [
    "# https://www.neuron.yale.edu/neuron/static/py_doc/modelspec/programmatic/topology/geometry.html?highlight=ri#ri\n",
    "# Return the resistance (in megohms) between the center of the segment section(x) and its parent segment.\n",
    "\n",
    "dends[0](0.5).ri()"
   ]
  },
  {
   "cell_type": "markdown",
   "id": "6b4f0f2a",
   "metadata": {},
   "source": [
    "We can change the result by changing the axial resistance of the dendrite."
   ]
  },
  {
   "cell_type": "code",
   "execution_count": 9,
   "id": "c94df737",
   "metadata": {},
   "outputs": [
    {
     "name": "stdout",
     "output_type": "stream",
     "text": [
      "Now the resistance is 54.0872 MΩ.\n"
     ]
    },
    {
     "data": {
      "image/png": "[encoded data removed]",
      "text/plain": [
       "<Figure size 640x480 with 1 Axes>"
      ]
     },
     "metadata": {},
     "output_type": "display_data"
    }
   ],
   "source": [
    "_, ax = plt.subplots()\n",
    "\n",
    "v, t = record_and_run()\n",
    "ax.plot(t, v, label=f'{dends[0].Ra}')\n",
    "\n",
    "dends[0].Ra = dends[1].Ra*10\n",
    "print(f'Now the resistance is {dends[0](0.5).ri():.4f} MΩ.')\n",
    "\n",
    "v, t = record_and_run()\n",
    "ax.plot(t, v, label=f'{dends[0].Ra}')\n",
    "_ = plt.legend()"
   ]
  },
  {
   "cell_type": "code",
   "execution_count": null,
   "id": "261d6c1c",
   "metadata": {},
   "outputs": [],
   "source": []
  }
 ],
 "metadata": {
  "kernelspec": {
   "display_name": "Python 3 (ipykernel)",
   "language": "python",
   "name": "python3"
  },
  "language_info": {
   "codemirror_mode": {
    "name": "ipython",
    "version": 3
   },
   "file_extension": ".py",
   "mimetype": "text/x-python",
   "name": "python",
   "nbconvert_exporter": "python",
   "pygments_lexer": "ipython3",
   "version": "3.11.5"
  }
 },
 "nbformat": 4,
 "nbformat_minor": 5
}
