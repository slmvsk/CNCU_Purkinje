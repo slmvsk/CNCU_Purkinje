{
 "cells": [
  {
   "cell_type": "code",
   "execution_count": 1,
   "id": "1510bc01-bc63-4e53-bc49-10ffe62b0bcb",
   "metadata": {},
   "outputs": [],
   "source": [
    "import os\n",
    "import colorsys\n",
    "import itertools as it\n",
    "import numpy as np\n",
    "import matplotlib.pyplot as plt\n",
    "from wand.image import Image\n",
    "from neuron import h, gui, nrn\n",
    "\n",
    "RUN_LITMUS_TEST = False\n",
    "RUN_VOLUME_MAP = False"
   ]
  },
  {
   "cell_type": "code",
   "execution_count": 2,
   "id": "8bed397f-4f69-4d5a-a44b-fbf30bbc602d",
   "metadata": {},
   "outputs": [],
   "source": [
    "def export(file, ps):\n",
    "  ps.printfile(\"tmp.ps\")\n",
    "  with Image(filename=\"tmp.ps\") as img:\n",
    "    img.save(filename=f\"PNG24:{file}\")\n",
    "  os.remove(\"tmp.ps\")"
   ]
  },
  {
   "cell_type": "code",
   "execution_count": 3,
   "id": "71ad483f-8a1e-4d62-b70d-018937634006",
   "metadata": {},
   "outputs": [],
   "source": [
    "# ps.view takes (mx, my, mw, mh, vx, vy, vw, vh), where m* and v* are for model and view cordinates, respectively.\n",
    "# Since it conserves aspect ratio, giving zero-height (mh=0) makes model-y (my) to map the middle of the view.\n",
    "_view = (50, 220, 500, 0, 0, 0, 1600, 1600)\n",
    "\n",
    "def show_sections(view=_view):\n",
    "  ps = h.PlotShape(False)\n",
    "  ps.view(*view)\n",
    "  ps.show(0)\n",
    "  return ps\n",
    "\n",
    "def show_v(view=_view):\n",
    "  ps = show_sections(size)\n",
    "  ps.exec_menu(\"Shape Plot\")\n",
    "  return ps    "
   ]
  },
  {
   "cell_type": "code",
   "execution_count": 4,
   "id": "0cc89eee-44ba-4b10-b16a-2b3580ab28c3",
   "metadata": {},
   "outputs": [],
   "source": [
    "class Box:\n",
    "    def __init__(self):\n",
    "        self.min = None\n",
    "        self.max = None\n",
    "\n",
    "    def __repr__(self):\n",
    "        return {\"min\": self.min, \"max\": self.max}.__repr__()\n",
    "\n",
    "    def include(self, pt):\n",
    "        if self.min is None or self.max is None:\n",
    "            self.min = pt\n",
    "            self.max = pt\n",
    "        else:\n",
    "            self.min = [min(x, y) for x, y in zip(self.min, pt)]\n",
    "            self.max = [max(x, y) for x, y in zip(self.max, pt)]"
   ]
  },
  {
   "cell_type": "code",
   "execution_count": 5,
   "id": "26abf900-8f9d-4b33-be79-7abc0dca25c8",
   "metadata": {},
   "outputs": [],
   "source": [
    "class Section:\n",
    "    _volumes = {}\n",
    "    \n",
    "    def diams(self):\n",
    "        return [self.diam3d(i) for i in range(self.n3d())]\n",
    "\n",
    "    def points(self):\n",
    "        return [(self.x3d(i), self.y3d(i), self.z3d(i), self.diam3d(i)) for i in range(self.n3d())]\n",
    "\n",
    "    def bounding_box(self):\n",
    "        box = Box()\n",
    "        for sec in self.subtree():\n",
    "            for pt in sec.points():\n",
    "                box.include(pt)\n",
    "        return box\n",
    "\n",
    "    def volume(self):\n",
    "        if self.name not in Section._volumes:\n",
    "            Section._volumes[self.name] = sum(seg.volume() for seg in self.allseg()) + sum(s.volume() for s in self.children())\n",
    "        return Section._volumes[self.name]\n",
    "\n",
    "    def translate(self, v):\n",
    "        for i, pt in enumerate(self.points()):\n",
    "            self.pt3dchange(i, *(np.array(pt) + np.array([*v, 0])))\n",
    "\n",
    "    def round_shape(self):\n",
    "        x, y, z, d = np.mean(self.points(), axis=0)\n",
    "        r = d / 2\n",
    "        self.pt3dclear()\n",
    "\n",
    "        for dx in np.linspace(-r, r, 256):\n",
    "            d_ = np.sqrt(r ** 2 - dx ** 2) * 2\n",
    "            self.pt3dadd(x + dx, y, z, d_)\n",
    "\n",
    "    def adjust_position(self):\n",
    "        x, y, z, d = np.mean(self.parentseg().sec.points(), axis=0)\n",
    "        pt0 = np.array([x, y, z])\n",
    "        r = d / 2\n",
    "        pt1 = self.points()[0][0:3]\n",
    "        diff = pt1 - pt0\n",
    "        dist = np.sqrt(sum(diff ** 2))\n",
    "        self.translate(-(1 - r/dist) * diff)\n",
    "\n",
    "    def traverse(self, pred, f):\n",
    "        f(self)\n",
    "        for s in self.children():\n",
    "            if pred(self, s):\n",
    "                s.traverse(pred, f)\n",
    "\n",
    "    def display(self):\n",
    "        box = self.bounding_box()\n",
    "        view = (box.min[0], box.min[1], box.max[0], box.max[1], 0, 0, 1200, 1200)\n",
    "        ps = show_sections(view=view)\n",
    "        return ps\n",
    "\n",
    "    def display_v(self):\n",
    "        ps = self.display()\n",
    "        ps.exec_menu(\"Shape Plot\")\n",
    "        return ps\n",
    "\n",
    "\n",
    "nrn.Section.diams = Section.diams\n",
    "nrn.Section.points = Section.points\n",
    "nrn.Section.bounding_box = Section.bounding_box\n",
    "nrn.Section.volume = Section.volume\n",
    "nrn.Section.translate = Section.translate\n",
    "nrn.Section.round_shape = Section.round_shape\n",
    "nrn.Section.adjust_position = Section.adjust_position\n",
    "nrn.Section.traverse = Section.traverse\n",
    "nrn.Section.display = Section.display\n",
    "nrn.Section.display_v = Section.display_v"
   ]
  },
  {
   "cell_type": "code",
   "execution_count": 6,
   "id": "65073a6a-cf10-4da9-b461-e3a3b88a1424",
   "metadata": {},
   "outputs": [],
   "source": [
    "def test_continuity(threshold=0.1):\n",
    "    for sec in h.allsec():\n",
    "        for i in range(sec.n3d()):\n",
    "            if sec.diam3d(i) < threshold:\n",
    "                print('%s %d %g' %  (sec, i, sec.diam3d(i)))"
   ]
  },
  {
   "cell_type": "code",
   "execution_count": 7,
   "id": "d7c6abeb-2906-4c06-870e-0d87cb4acb5b",
   "metadata": {},
   "outputs": [],
   "source": [
    "h.load_file(\"original.hoc\")\n",
    "test_continuity()"
   ]
  },
  {
   "cell_type": "code",
   "execution_count": 8,
   "id": "622f665c-ca9c-43c6-a1ba-64aec0d5a8a0",
   "metadata": {},
   "outputs": [],
   "source": [
    "soma = next(h.allsec())\n",
    "trunk = next(x for x in soma.children() if \"dend\" in x.name())\n",
    "axon = next(x for x in soma.children() if \"axon\" in x.name())\n",
    "\n",
    "soma.round_shape()\n",
    "trunk.adjust_position()\n",
    "axon.adjust_position()"
   ]
  },
  {
   "cell_type": "code",
   "execution_count": 9,
   "id": "193247dc-78d6-482c-9382-cdd315a45ec4",
   "metadata": {},
   "outputs": [],
   "source": [
    "def run_litmus():\n",
    "    ic = h.IClamp(soma(0.5))\n",
    "    ic.delay = 0\n",
    "    ic.dur = 3000\n",
    "    ic.amp = 3\n",
    "\n",
    "    ps = soma.display_v()\n",
    "    h.init()\n",
    "    for t in range(0, 101, 10):\n",
    "        h.continuerun(t)\n",
    "        ps.exec_menu(\"Redraw Shape\")\n",
    "        export(f\"litmus/dend_v_{t:03d}.png\", ps)\n",
    "    # Make sure that all the segments have high voltage\n",
    "    vs = []\n",
    "    for sec in h.allsec():\n",
    "      for seg in sec.allseg():\n",
    "        vs.append(seg.v)\n",
    "\n",
    "    fig, ax = plt.subplots()\n",
    "    ax.hist(vs, bins=100)\n",
    "    plt.show()\n",
    "\n",
    "if RUN_LITMUS_TEST:\n",
    "    run_litmus()"
   ]
  },
  {
   "cell_type": "code",
   "execution_count": 10,
   "id": "8241618e-3953-4921-92bf-dc0513892611",
   "metadata": {},
   "outputs": [
    {
     "data": {
      "image/png": "[encoded data removed]",
      "text/plain": [
       "<Figure size 640x480 with 2 Axes>"
      ]
     },
     "metadata": {},
     "output_type": "display_data"
    }
   ],
   "source": [
    "diams = []\n",
    "for sec in h.allsec():\n",
    "    for d in sec.diams():\n",
    "        diams.append(d)\n",
    "\n",
    "fig, axs = plt.subplots(2)\n",
    "axs[0].hist(diams, bins=100)\n",
    "axs[1].hist(diams, bins=100, range=(3,10))\n",
    "plt.show()"
   ]
  },
  {
   "cell_type": "code",
   "execution_count": 11,
   "id": "6f092cb4-fcd7-4a12-be84-ca8aa4099e59",
   "metadata": {},
   "outputs": [],
   "source": [
    "ps = soma.display()\n",
    "for sec in h.allsec():\n",
    "  if 2 < sec.diam3d(0):\n",
    "    ps.color(3, sec=sec)"
   ]
  },
  {
   "cell_type": "code",
   "execution_count": 12,
   "id": "d8fa8c6c-6c92-4fc3-ac31-33b327ca8ba7",
   "metadata": {},
   "outputs": [
    {
     "data": {
      "image/png": "[encoded data removed]",
      "text/plain": [
       "<Figure size 640x480 with 2 Axes>"
      ]
     },
     "metadata": {},
     "output_type": "display_data"
    }
   ],
   "source": [
    "diam_diffs = []\n",
    "def collect_diam_diffs(sec):\n",
    "  for s in sec.children():\n",
    "    diam_diffs.append(max(s.diams()) / max(sec.diams()))\n",
    "    collect_diam_diffs(s)\n",
    "\n",
    "collect_diam_diffs(trunk)\n",
    "fig, axs = plt.subplots(2)\n",
    "axs[0].hist(diam_diffs, bins=100)\n",
    "axs[1].hist(diam_diffs, bins=100, range=(0.5, 1.5))\n",
    "plt.show()"
   ]
  },
  {
   "cell_type": "code",
   "execution_count": 13,
   "id": "bac75890-b44c-4761-a82b-917105c79fb9",
   "metadata": {},
   "outputs": [],
   "source": [
    "def follow_thickest(f, sec):\n",
    "  f(sec)\n",
    "  if 0 < len(sec.children()):\n",
    "    xs = [np.average(s.diams()) for s in sec.children()]\n",
    "    i = np.argmax(xs)\n",
    "    follow_thickest(f, sec.children()[i])\n",
    "\n",
    "ps = show_sections()\n",
    "follow_thickest(lambda sec: ps.color(2, sec=sec), trunk)"
   ]
  },
  {
   "cell_type": "code",
   "execution_count": 14,
   "id": "a38b1222-c3cb-4183-ab50-65de1ed799de",
   "metadata": {},
   "outputs": [],
   "source": [
    "i = 0\n",
    "for sec in h.allsec():\n",
    "  ps.color(i + 2, sec=sec)\n",
    "  i = (i + 1) % 8"
   ]
  },
  {
   "cell_type": "code",
   "execution_count": 15,
   "id": "364a9c7d-fc80-4c1c-908c-ed08d4625629",
   "metadata": {},
   "outputs": [
    {
     "data": {
      "image/png": "[encoded data removed]",
      "text/plain": [
       "<Figure size 640x480 with 2 Axes>"
      ]
     },
     "metadata": {},
     "output_type": "display_data"
    }
   ],
   "source": [
    "xs = [sec.volume() for sec in h.allsec()]\n",
    "\n",
    "fig, axs = plt.subplots(2)\n",
    "axs[0].hist(xs, bins=100)\n",
    "axs[1].hist(xs, bins=100, range=(100,2000))\n",
    "plt.show()"
   ]
  },
  {
   "cell_type": "code",
   "execution_count": 16,
   "id": "eebe8e6b-3ead-48e6-b398-904826585ec1",
   "metadata": {},
   "outputs": [],
   "source": [
    "def dye_heavy_branches(thr):\n",
    "    ps = show_sections()\n",
    "    soma.traverse(lambda _, s: thr < s.volume(), lambda s: ps.color(2, sec=s))\n",
    "    export(f\"volume/{thr}.png\", ps)\n",
    "    return ps\n",
    "\n",
    "if RUN_VOLUME_MAP:\n",
    "    for w in range(200, 1201, 200):\n",
    "        dye_heavy_branches(w)"
   ]
  },
  {
   "cell_type": "code",
   "execution_count": 17,
   "id": "68fa410f-47e1-47e3-a66d-c9d63436148f",
   "metadata": {},
   "outputs": [],
   "source": [
    "if RUN_VOLUME_MAP:\n",
    "    minmax = (100, 1000)\n",
    "    ps = soma.display_v()\n",
    "    for sec in h.allsec():\n",
    "        sec.v = -np.clip(sec.volume(), *minmax)\n",
    "    soma.v = -minmax[1]\n",
    "    ps.scale(*(-x for x in reversed(minmax)))\n",
    "    export(f\"volume/{minmax[0]}_{minmax[1]}.png\", ps)"
   ]
  },
  {
   "cell_type": "code",
   "execution_count": 18,
   "id": "239a9408-9344-46bd-adae-be69f9e8b6cb",
   "metadata": {},
   "outputs": [],
   "source": [
    "branches = []\n",
    "threshold = 1000\n",
    "def f(_, x):\n",
    "    if threshold < x.volume():\n",
    "        return True\n",
    "    else:\n",
    "        branches.append(x)\n",
    "        return False\n",
    "trunk.traverse(f, lambda _: 0)"
   ]
  },
  {
   "cell_type": "code",
   "execution_count": 19,
   "id": "5cb002bd-2efe-4941-b6b7-01952ddaa170",
   "metadata": {},
   "outputs": [
    {
     "data": {
      "text/plain": [
       "210"
      ]
     },
     "execution_count": 19,
     "metadata": {},
     "output_type": "execute_result"
    }
   ],
   "source": [
    "len(branches)"
   ]
  },
  {
   "cell_type": "code",
   "execution_count": 20,
   "id": "33cfa6cd-ffd1-4809-8e7a-a88329bdb9b7",
   "metadata": {},
   "outputs": [],
   "source": [
    "num_colors = 16\n",
    "ps = soma.display_v()\n",
    "ps.colormap(num_colors + 1)\n",
    "for i in range(num_colors):\n",
    "  ps.colormap(i + 1, *(int(x * 256) for x in colorsys.hsv_to_rgb((i / num_colors) % 1.0, 0.7, 0.9)))\n",
    "def const_true(_p, _c):\n",
    "    return True\n",
    "def set_v(v):\n",
    "    def _f(sec):\n",
    "        sec.v = v\n",
    "    return _f\n",
    "for i, branch in enumerate(branches):\n",
    "    branch.traverse(const_true, set_v(i % num_colors + 1))\n",
    "soma.v = 0\n",
    "axon.traverse(const_true, set_v(0))\n",
    "ps.scale(0, num_colors)\n",
    "\n",
    "export(\"branches.png\", ps)"
   ]
  },
  {
   "cell_type": "code",
   "execution_count": null,
   "id": "2a12bc51-9302-4fa6-a689-f24895d75274",
   "metadata": {},
   "outputs": [],
   "source": []
  }
 ],
 "metadata": {
  "kernelspec": {
   "display_name": "Python 3 (ipykernel)",
   "language": "python",
   "name": "python3"
  },
  "language_info": {
   "codemirror_mode": {
    "name": "ipython",
    "version": 3
   },
   "file_extension": ".py",
   "mimetype": "text/x-python",
   "name": "python",
   "nbconvert_exporter": "python",
   "pygments_lexer": "ipython3",
   "version": "3.12.6"
  }
 },
 "nbformat": 4,
 "nbformat_minor": 5
}
