{
 "cells": [
  {
   "cell_type": "code",
   "execution_count": 1,
   "id": "1510bc01-bc63-4e53-bc49-10ffe62b0bcb",
   "metadata": {},
   "outputs": [],
   "source": [
    "from neuron import h, gui, nrn"
   ]
  },
  {
   "cell_type": "code",
   "execution_count": 2,
   "id": "d7c6abeb-2906-4c06-870e-0d87cb4acb5b",
   "metadata": {},
   "outputs": [
    {
     "data": {
      "text/plain": [
       "1.0"
      ]
     },
     "execution_count": 2,
     "metadata": {},
     "output_type": "execute_result"
    }
   ],
   "source": [
    "h.load_file(\"../../data/human/original.hoc\")"
   ]
  },
  {
   "cell_type": "code",
   "execution_count": 3,
   "id": "622f665c-ca9c-43c6-a1ba-64aec0d5a8a0",
   "metadata": {},
   "outputs": [],
   "source": [
    "soma = next(h.allsec())\n",
    "trunk = next(x for x in soma.children() if \"dend\" in x.name())"
   ]
  },
  {
   "cell_type": "code",
   "execution_count": 4,
   "id": "a38b1222-c3cb-4183-ab50-65de1ed799de",
   "metadata": {},
   "outputs": [],
   "source": [
    "# Follow the children of given sec, run `f` and\n",
    "# continue according to the result of `f`.\n",
    "def visit(sec, f):\n",
    "    for s in sec.children():\n",
    "        if f(sec, s):\n",
    "            visit(s, f)\n",
    "\n",
    "_volumes = {}\n",
    "def subtree_volume(sec):\n",
    "    if sec.name not in _volumes:\n",
    "        _volumes[sec.name] = sum([\n",
    "            sum(seg.volume() for seg in sec.allseg()),\n",
    "            sum(subtree_volume(s) for s in sec.children())\n",
    "        ])\n",
    "    return _volumes[sec.name]\n",
    "\n",
    "\n",
    "trunk_sections = []\n",
    "branches = []\n",
    "def classify(sec, threshold=1000):\n",
    "    def f(_, s):\n",
    "        if threshold < subtree_volume(s):\n",
    "            trunk_sections.append(s)\n",
    "            return True\n",
    "        else:\n",
    "            branches.append(s)\n",
    "            return False\n",
    "    visit(sec, f)    "
   ]
  },
  {
   "cell_type": "code",
   "execution_count": 5,
   "id": "b6e77c47-b143-47ae-87e8-8e37c30fb354",
   "metadata": {},
   "outputs": [],
   "source": [
    "classify(trunk)"
   ]
  },
  {
   "cell_type": "code",
   "execution_count": 6,
   "id": "7595a152-df61-4637-a38c-aaf06bcd541c",
   "metadata": {},
   "outputs": [
    {
     "data": {
      "text/plain": [
       "382"
      ]
     },
     "execution_count": 6,
     "metadata": {},
     "output_type": "execute_result"
    }
   ],
   "source": [
    "len(trunk_sections)"
   ]
  },
  {
   "cell_type": "code",
   "execution_count": 7,
   "id": "77adef0f-13fc-4577-8e24-adf8aeab0fd2",
   "metadata": {},
   "outputs": [
    {
     "data": {
      "text/plain": [
       "210"
      ]
     },
     "execution_count": 7,
     "metadata": {},
     "output_type": "execute_result"
    }
   ],
   "source": [
    "len(branches)"
   ]
  },
  {
   "cell_type": "code",
   "execution_count": null,
   "id": "2a12bc51-9302-4fa6-a689-f24895d75274",
   "metadata": {},
   "outputs": [],
   "source": []
  }
 ],
 "metadata": {
  "kernelspec": {
   "display_name": "Python 3 (ipykernel)",
   "language": "python",
   "name": "python3"
  },
  "language_info": {
   "codemirror_mode": {
    "name": "ipython",
    "version": 3
   },
   "file_extension": ".py",
   "mimetype": "text/x-python",
   "name": "python",
   "nbconvert_exporter": "python",
   "pygments_lexer": "ipython3",
   "version": "3.12.6"
  }
 },
 "nbformat": 4,
 "nbformat_minor": 5
}
