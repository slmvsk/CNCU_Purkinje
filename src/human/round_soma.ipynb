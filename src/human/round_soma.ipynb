{
 "cells": [
  {
   "cell_type": "code",
   "execution_count": 1,
   "id": "1510bc01-bc63-4e53-bc49-10ffe62b0bcb",
   "metadata": {},
   "outputs": [],
   "source": [
    "import numpy as np\n",
    "from neuron import h, gui, nrn"
   ]
  },
  {
   "cell_type": "code",
   "execution_count": 2,
   "id": "fcf60d4a-0233-4126-b032-1810af9562eb",
   "metadata": {},
   "outputs": [
    {
     "data": {
      "text/plain": [
       "1.0"
      ]
     },
     "execution_count": 2,
     "metadata": {},
     "output_type": "execute_result"
    }
   ],
   "source": [
    "h.load_file(\"../../data/human/original.hoc\")\n",
    "\n",
    "ps = h.PlotShape(False)\n",
    "ps.view(50, 250, 500, 0, 0, 0, 800, 800)\n",
    "ps.show(0)"
   ]
  },
  {
   "cell_type": "code",
   "execution_count": 3,
   "id": "a38b1222-c3cb-4183-ab50-65de1ed799de",
   "metadata": {},
   "outputs": [],
   "source": [
    "def diams(sec):\n",
    "    return [sec.diam3d(i) for i in range(sec.n3d())]\n",
    "\n",
    "def points(sec):\n",
    "    return [\n",
    "        (sec.x3d(i), sec.y3d(i), sec.z3d(i))\n",
    "        for i in range(sec.n3d())\n",
    "    ]\n",
    "\n",
    "def round_shape(sec, n=32):\n",
    "    x, y, z = np.mean(points(sec), axis=0)\n",
    "    r = np.max(diams(sec)) / 2\n",
    "    sec.pt3dclear()\n",
    "    for theta in np.linspace(np.pi, 0, n + 1):\n",
    "        dx = r * np.cos(theta)\n",
    "        d = r * np.sin(theta) * 2\n",
    "        sec.pt3dadd(x + dx, y, z, d)\n",
    "\n",
    "def translate(sec, v):\n",
    "    for i, (pt, d) in enumerate(zip(points(sec), diams(sec))):\n",
    "        sec.pt3dchange(i, *(np.array(pt) + np.array(v)), d)\n",
    "\n",
    "def adjust_position(sec):\n",
    "    pt0 = np.mean(points(sec.parentseg().sec), axis=0)\n",
    "    pt1 = points(sec)[0]\n",
    "    diff = pt1 - pt0\n",
    "    dist = np.sqrt(sum(diff**2))\n",
    "    r = np.max(diams(sec)) / 2\n",
    "    translate(sec, -(1 - r / dist) * diff)"
   ]
  },
  {
   "cell_type": "code",
   "execution_count": 4,
   "id": "622f665c-ca9c-43c6-a1ba-64aec0d5a8a0",
   "metadata": {},
   "outputs": [],
   "source": [
    "soma = next(h.allsec())"
   ]
  },
  {
   "cell_type": "code",
   "execution_count": 5,
   "id": "b6e77c47-b143-47ae-87e8-8e37c30fb354",
   "metadata": {},
   "outputs": [],
   "source": [
    "round_shape(soma)"
   ]
  },
  {
   "cell_type": "code",
   "execution_count": 6,
   "id": "601d828d-661d-4c37-850e-da19e6dcd387",
   "metadata": {},
   "outputs": [],
   "source": [
    "for sec in soma.children():\n",
    "  adjust_position(sec)"
   ]
  },
  {
   "cell_type": "code",
   "execution_count": null,
   "id": "39c2731d-8b4c-4fb2-b6a4-4e79cd607ffe",
   "metadata": {},
   "outputs": [],
   "source": []
  }
 ],
 "metadata": {
  "kernelspec": {
   "display_name": "Python 3 (ipykernel)",
   "language": "python",
   "name": "python3"
  },
  "language_info": {
   "codemirror_mode": {
    "name": "ipython",
    "version": 3
   },
   "file_extension": ".py",
   "mimetype": "text/x-python",
   "name": "python",
   "nbconvert_exporter": "python",
   "pygments_lexer": "ipython3",
   "version": "3.12.6"
  }
 },
 "nbformat": 4,
 "nbformat_minor": 5
}
