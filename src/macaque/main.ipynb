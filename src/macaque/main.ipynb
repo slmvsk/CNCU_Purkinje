{
 "cells": [
  {
   "cell_type": "code",
   "execution_count": 1,
   "id": "1510bc01-bc63-4e53-bc49-10ffe62b0bcb",
   "metadata": {},
   "outputs": [],
   "source": [
    "import itertools as it\n",
    "import colorsys\n",
    "import os\n",
    "import numpy as np\n",
    "import matplotlib.pyplot as plt\n",
    "from wand.image import Image\n",
    "from neuron import h, gui"
   ]
  },
  {
   "cell_type": "code",
   "execution_count": 2,
   "id": "da61ecfc-3606-49f3-b637-f7853a387aba",
   "metadata": {},
   "outputs": [
    {
     "name": "stdout",
     "output_type": "stream",
     "text": [
      "\t0 \n",
      "\t131 \n",
      "\t0 \n",
      "\t0 \n",
      "\t0 \n",
      "\t0 \n",
      "Purkinje cell morphology defined\n",
      "\n"
     ]
    },
    {
     "data": {
      "text/plain": [
       "1.0"
      ]
     },
     "execution_count": 2,
     "metadata": {},
     "output_type": "execute_result"
    }
   ],
   "source": [
    "h.load_file(\"Axon_withellipse.hoc\")"
   ]
  },
  {
   "cell_type": "code",
   "execution_count": 3,
   "id": "65073a6a-cf10-4da9-b461-e3a3b88a1424",
   "metadata": {},
   "outputs": [],
   "source": [
    "for sec in h.allsec():\n",
    "  for i in range(sec.n3d()):\n",
    "    if sec.diam3d(i) < 0.1:\n",
    "      print('%s %d %g' %  (sec, i, sec.diam3d(i)))"
   ]
  },
  {
   "cell_type": "code",
   "execution_count": 4,
   "id": "d34937ed-579c-4055-a566-5e38773f3feb",
   "metadata": {},
   "outputs": [],
   "source": [
    "def to_bytes(x):\n",
    "    return [(x >> 16), (x >> 8) & 255, x & 255]"
   ]
  },
  {
   "cell_type": "code",
   "execution_count": 5,
   "id": "73b26a83-5981-45b1-8fc2-891758e57693",
   "metadata": {},
   "outputs": [],
   "source": [
    "def export(file):\n",
    "  ps.printfile(\"tmp.ps\")\n",
    "  with Image(filename=\"tmp.ps\") as img:\n",
    "    img.save(filename=f\"PNG24:{file}\")\n",
    "  os.remove(\"tmp.ps\")"
   ]
  },
  {
   "cell_type": "code",
   "execution_count": 6,
   "id": "1261bca9-f180-4a62-a5ee-f3adc8ce0517",
   "metadata": {},
   "outputs": [],
   "source": [
    "branches = [h.branch1, h.branch2, h.branch3, h.branch4, h.branch5, h.branch6, h.branch7, h.branch8, h.branch9, h.branch10, h.branch11, h.branch12, h.branch13, h.branch14, h.branch15, h.branch16, h.branch17, h.branch18, h.branch19, h.branch20, h.branch21, h.branch22, h.branch23, h.branch24, h.branch25, h.branch26, h.branch27, h.branch28, h.branch29, h.branch30, h.branch31, h.branch32, h.branch33, h.branch34, h.branch35, h.branch36, h.branch37, h.branch38, h.branch39, h.branch40, h.branch41, h.branch42, h.branch43, h.branch44, h.branch45, h.branch46, h.branch47, h.branch48, h.branch49, h.branch50, h.branch51, h.branch52, h.branch53, h.branch54, h.branch55, h.branch56, h.branch57, h.branch58, h.branch59, h.branch60, h.branch61, h.branch62, h.branch63, h.branch64, h.branch65, h.branch66, h.branch67, h.branch68, h.branch69, h.branch70, h.branch71, h.branch72, h.branch73, h.branch74, h.branch75, h.branch76, h.branch77, h.branch78, h.branch79, h.branch80, h.branch81, h.branch82, h.branch83, h.branch84, h.branch85, h.branch86, h.branch87, h.branch88, h.branch89, h.branch90, h.branch91, h.branch92, h.branch93, h.branch94]"
   ]
  },
  {
   "cell_type": "code",
   "execution_count": 7,
   "id": "6890889d-492f-4eb9-99fe-dc4c20e65102",
   "metadata": {},
   "outputs": [],
   "source": [
    "colors = [0x5548a0,0x564ca2,0x574fa4,0x5953a6,0x5a57a8,0x5b5aaa,0x5c5eac,0x5e61ae,0x5f65b0,0x6069b2,0x626cb4,0x6370b6,0x6473b8,0x6677ba,0x677abc,0x687ebe,0x6a81c0,0x6b85c2,0x6d89c4,0x6e8cc6,0x7090c8,0x7293ca,0x7397cc,0x759acd,0x779ecf,0x79a1d1,0x7ba5d3,0x7da8d5,0x7facd7,0x82afd9,0x84b3db,0x87b6dc,0x89bade,0x8cbde0,0x8fc0e2,0x93c4e4,0x96c7e5,0x9acae7,0x9ecee9,0xa2d1ea,0xa7d4ec,0xadd7ed,0xb2daef,0xb9ddf0,0xc0dff1,0xcae1f2,0xd6e2f3,0xf1dff1,0xedfbf7,0xe9f7ef,0xe5f3e8,0xe1efe0,0xddebd9,0xdae7d2,0xd6e3cb,0xd2dfc4,0xcfdbbd,0xcbd7b6,0xc8d3af,0xc5cfa9,0xc1cba2,0xbec79c,0xbbc396,0xb8bf90,0xb5bb8a,0xb2b685,0xb0b27f,0xadae7a,0xaaaa75,0xa8a670,0xa6a16b,0xa39d66,0xa19962,0x9f945d,0x9d9059,0x9b8b55,0x998752,0x98824e,0x967e4b,0x957948,0x947445,0x927042,0x916b40,0x90663e,0x90603c,0x8f5b3b,0x8e563a,0x8e5039,0x8e4a38,0x8e4338,0x8e3c38,0x8e3438,0x8e2b39,0x8f2039,0x8f0e3b]\n"
   ]
  },
  {
   "cell_type": "code",
   "execution_count": 8,
   "id": "78a840b2-b87b-455e-8f87-4aed169f26e2",
   "metadata": {},
   "outputs": [],
   "source": [
    "ps = h.PlotShape(False)"
   ]
  },
  {
   "cell_type": "code",
   "execution_count": 9,
   "id": "f4f2b48a-0983-4fb3-94b5-b81d954a3625",
   "metadata": {},
   "outputs": [
    {
     "data": {
      "text/plain": [
       "1.0"
      ]
     },
     "execution_count": 9,
     "metadata": {},
     "output_type": "execute_result"
    }
   ],
   "source": [
    "ps.rotate(0, 0, 0, 0, 0, np.pi)\n",
    "ps.view(-400, -400, 400, 400, 0, 0, 1600, 1600)\n",
    "ps.show(0)"
   ]
  },
  {
   "cell_type": "code",
   "execution_count": 10,
   "id": "69ec84c7-4779-4b5c-8f7e-959370b0ead3",
   "metadata": {},
   "outputs": [
    {
     "data": {
      "text/plain": [
       "1.0"
      ]
     },
     "execution_count": 10,
     "metadata": {},
     "output_type": "execute_result"
    }
   ],
   "source": [
    "ps.exec_menu(\"Shape Plot\")\n",
    "ps.variable(\"v\")\n",
    "ps.colormap(len(colors))\n",
    "for i, c in enumerate(colors):\n",
    "  ps.colormap(i, *to_bytes(c))\n",
    "ps.colormap(0, 0, 0, 0)\n",
    "for i, branch in enumerate(branches):\n",
    "  for b in branch:\n",
    "    b.v = i + 1\n",
    "ps.scale(0, len(branches))"
   ]
  },
  {
   "cell_type": "code",
   "execution_count": 11,
   "id": "dcb231a8-b65c-4fb9-91be-253c13087e94",
   "metadata": {},
   "outputs": [],
   "source": [
    "export(\"dend.png\")"
   ]
  },
  {
   "cell_type": "code",
   "execution_count": null,
   "id": "bdbec4ce-459f-424b-8795-d14b8e055e5b",
   "metadata": {},
   "outputs": [],
   "source": []
  }
 ],
 "metadata": {
  "kernelspec": {
   "display_name": "Python 3 (ipykernel)",
   "language": "python",
   "name": "python3"
  },
  "language_info": {
   "codemirror_mode": {
    "name": "ipython",
    "version": 3
   },
   "file_extension": ".py",
   "mimetype": "text/x-python",
   "name": "python",
   "nbconvert_exporter": "python",
   "pygments_lexer": "ipython3",
   "version": "3.12.6"
  }
 },
 "nbformat": 4,
 "nbformat_minor": 5
}
